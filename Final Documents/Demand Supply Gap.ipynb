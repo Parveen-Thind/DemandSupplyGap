{
 "cells": [
  {
   "cell_type": "markdown",
   "metadata": {},
   "source": [
    "# Assignment: Uber Supply - Demand Gap\n",
    "\n",
    "## Aim: Analysis the given Data ot identify the root cause of the problem (i.e. cancellation and non-availability of cars)"
   ]
  },
  {
   "cell_type": "markdown",
   "metadata": {},
   "source": [
    "### Given Dataset:\n",
    "\n",
    "#### There are six attributes associated with each request made by a customer:\n",
    "\n",
    "- **Request id**: A unique identifier of the request\n",
    "- **Time of request**: The date and time at which the customer made the trip request\n",
    "- **Drop-off time**: The drop-off date and time, in case the trip was completed \n",
    "- **Pick-up point**: The point from which the request was made\n",
    "- **Driver id**: The unique identification number of the driver\n",
    "- **Status of the request**: The final status of the trip, that can be either completed, cancelled by the driver or no cars available\n",
    "\n",
    "### **Note :** For this assignment, only the trips to and from the airport are being considered.\n",
    "\n"
   ]
  },
  {
   "cell_type": "markdown",
   "metadata": {},
   "source": [
    "\n",
    "\n",
    "## Note: \n",
    "### File Directory used: E:\\Upgrad\\C2 M5 Uber Demand Supply GAP"
   ]
  },
  {
   "cell_type": "code",
   "execution_count": 1,
   "metadata": {},
   "outputs": [],
   "source": [
    "# Inport module operating system\n",
    "import os\n",
    "\n",
    "# Change current Working directory to the destination where files are kept...\n",
    "os.chdir(r'E:\\Upgrad\\C2 M5 Uber Demand Supply GAP')"
   ]
  },
  {
   "cell_type": "code",
   "execution_count": 2,
   "metadata": {},
   "outputs": [],
   "source": [
    "# Import all required libraries used during the analysis...\n",
    "import numpy as np\n",
    "import pandas as pd\n",
    "import matplotlib.pyplot as plt\n",
    "import seaborn as sns\n",
    "import datetime\n",
    "\n",
    "# Set Plotting area background...\n",
    "sns.set_style('darkgrid')"
   ]
  },
  {
   "cell_type": "code",
   "execution_count": 3,
   "metadata": {},
   "outputs": [],
   "source": [
    "# Read given data into python into varable name'df'..\n",
    "df=pd.read_csv('Uber Request Data.csv')"
   ]
  },
  {
   "cell_type": "code",
   "execution_count": 4,
   "metadata": {},
   "outputs": [
    {
     "data": {
      "text/html": [
       "<div>\n",
       "<style scoped>\n",
       "    .dataframe tbody tr th:only-of-type {\n",
       "        vertical-align: middle;\n",
       "    }\n",
       "\n",
       "    .dataframe tbody tr th {\n",
       "        vertical-align: top;\n",
       "    }\n",
       "\n",
       "    .dataframe thead th {\n",
       "        text-align: right;\n",
       "    }\n",
       "</style>\n",
       "<table border=\"1\" class=\"dataframe\">\n",
       "  <thead>\n",
       "    <tr style=\"text-align: right;\">\n",
       "      <th></th>\n",
       "      <th>Request id</th>\n",
       "      <th>Pickup point</th>\n",
       "      <th>Driver id</th>\n",
       "      <th>Status</th>\n",
       "      <th>Request timestamp</th>\n",
       "      <th>Drop timestamp</th>\n",
       "    </tr>\n",
       "  </thead>\n",
       "  <tbody>\n",
       "    <tr>\n",
       "      <th>0</th>\n",
       "      <td>619</td>\n",
       "      <td>Airport</td>\n",
       "      <td>1.0</td>\n",
       "      <td>Trip Completed</td>\n",
       "      <td>11/7/2016 11:51</td>\n",
       "      <td>11/7/2016 13:00</td>\n",
       "    </tr>\n",
       "    <tr>\n",
       "      <th>1</th>\n",
       "      <td>867</td>\n",
       "      <td>Airport</td>\n",
       "      <td>1.0</td>\n",
       "      <td>Trip Completed</td>\n",
       "      <td>11/7/2016 17:57</td>\n",
       "      <td>11/7/2016 18:47</td>\n",
       "    </tr>\n",
       "    <tr>\n",
       "      <th>2</th>\n",
       "      <td>1807</td>\n",
       "      <td>City</td>\n",
       "      <td>1.0</td>\n",
       "      <td>Trip Completed</td>\n",
       "      <td>12/7/2016 9:17</td>\n",
       "      <td>12/7/2016 9:58</td>\n",
       "    </tr>\n",
       "    <tr>\n",
       "      <th>3</th>\n",
       "      <td>2532</td>\n",
       "      <td>Airport</td>\n",
       "      <td>1.0</td>\n",
       "      <td>Trip Completed</td>\n",
       "      <td>12/7/2016 21:08</td>\n",
       "      <td>12/7/2016 22:03</td>\n",
       "    </tr>\n",
       "    <tr>\n",
       "      <th>4</th>\n",
       "      <td>3112</td>\n",
       "      <td>City</td>\n",
       "      <td>1.0</td>\n",
       "      <td>Trip Completed</td>\n",
       "      <td>13-07-2016 08:33:16</td>\n",
       "      <td>13-07-2016 09:25:47</td>\n",
       "    </tr>\n",
       "  </tbody>\n",
       "</table>\n",
       "</div>"
      ],
      "text/plain": [
       "   Request id Pickup point  Driver id          Status    Request timestamp  \\\n",
       "0         619      Airport        1.0  Trip Completed      11/7/2016 11:51   \n",
       "1         867      Airport        1.0  Trip Completed      11/7/2016 17:57   \n",
       "2        1807         City        1.0  Trip Completed       12/7/2016 9:17   \n",
       "3        2532      Airport        1.0  Trip Completed      12/7/2016 21:08   \n",
       "4        3112         City        1.0  Trip Completed  13-07-2016 08:33:16   \n",
       "\n",
       "        Drop timestamp  \n",
       "0      11/7/2016 13:00  \n",
       "1      11/7/2016 18:47  \n",
       "2       12/7/2016 9:58  \n",
       "3      12/7/2016 22:03  \n",
       "4  13-07-2016 09:25:47  "
      ]
     },
     "execution_count": 4,
     "metadata": {},
     "output_type": "execute_result"
    }
   ],
   "source": [
    "# Take a look on the provided dataset...\n",
    "df.head()"
   ]
  },
  {
   "cell_type": "code",
   "execution_count": 5,
   "metadata": {},
   "outputs": [
    {
     "name": "stdout",
     "output_type": "stream",
     "text": [
      "<class 'pandas.core.frame.DataFrame'>\n",
      "RangeIndex: 6745 entries, 0 to 6744\n",
      "Data columns (total 6 columns):\n",
      "Request id           6745 non-null int64\n",
      "Pickup point         6745 non-null object\n",
      "Driver id            4095 non-null float64\n",
      "Status               6745 non-null object\n",
      "Request timestamp    6745 non-null object\n",
      "Drop timestamp       2831 non-null object\n",
      "dtypes: float64(1), int64(1), object(4)\n",
      "memory usage: 316.2+ KB\n"
     ]
    }
   ],
   "source": [
    "# Look at the different types of attributes present in dataframe...\n",
    "df.info()"
   ]
  },
  {
   "cell_type": "code",
   "execution_count": 6,
   "metadata": {},
   "outputs": [
    {
     "name": "stdout",
     "output_type": "stream",
     "text": [
      "<class 'pandas.core.frame.DataFrame'>\n",
      "RangeIndex: 6745 entries, 0 to 6744\n",
      "Data columns (total 6 columns):\n",
      "Request id           6745 non-null int64\n",
      "Pickup point         6745 non-null object\n",
      "Driver id            4095 non-null float64\n",
      "Status               6745 non-null object\n",
      "Request timestamp    6745 non-null datetime64[ns]\n",
      "Drop timestamp       2831 non-null datetime64[ns]\n",
      "dtypes: datetime64[ns](2), float64(1), int64(1), object(2)\n",
      "memory usage: 316.2+ KB\n"
     ]
    }
   ],
   "source": [
    "# Correction of dtype of date time variables like ('Request timestamp','Drop timestamp') into required one...\n",
    "df['Request timestamp']=pd.to_datetime(df['Request timestamp'])\n",
    "df['Drop timestamp']=pd.to_datetime(df['Drop timestamp'])\n",
    "\n",
    "# Checing out the above action...\n",
    "df.info()"
   ]
  },
  {
   "cell_type": "code",
   "execution_count": 7,
   "metadata": {},
   "outputs": [
    {
     "data": {
      "text/plain": [
       "False"
      ]
     },
     "execution_count": 7,
     "metadata": {},
     "output_type": "execute_result"
    }
   ],
   "source": [
    "# To check any duplicated row present in our dataset...\n",
    "df.duplicated().any()"
   ]
  },
  {
   "cell_type": "code",
   "execution_count": 8,
   "metadata": {},
   "outputs": [
    {
     "data": {
      "text/html": [
       "<div>\n",
       "<style scoped>\n",
       "    .dataframe tbody tr th:only-of-type {\n",
       "        vertical-align: middle;\n",
       "    }\n",
       "\n",
       "    .dataframe tbody tr th {\n",
       "        vertical-align: top;\n",
       "    }\n",
       "\n",
       "    .dataframe thead th {\n",
       "        text-align: right;\n",
       "    }\n",
       "</style>\n",
       "<table border=\"1\" class=\"dataframe\">\n",
       "  <thead>\n",
       "    <tr style=\"text-align: right;\">\n",
       "      <th></th>\n",
       "      <th>Request id</th>\n",
       "      <th>Pickup point</th>\n",
       "      <th>Driver id</th>\n",
       "      <th>Status</th>\n",
       "      <th>Request timestamp</th>\n",
       "      <th>Drop timestamp</th>\n",
       "      <th>Request Date</th>\n",
       "      <th>Request time</th>\n",
       "    </tr>\n",
       "  </thead>\n",
       "  <tbody>\n",
       "    <tr>\n",
       "      <th>0</th>\n",
       "      <td>619</td>\n",
       "      <td>Airport</td>\n",
       "      <td>1.0</td>\n",
       "      <td>Trip Completed</td>\n",
       "      <td>2016-11-07 11:51:00</td>\n",
       "      <td>2016-11-07 13:00:00</td>\n",
       "      <td>2016-11-07</td>\n",
       "      <td>11:51:00</td>\n",
       "    </tr>\n",
       "    <tr>\n",
       "      <th>1</th>\n",
       "      <td>867</td>\n",
       "      <td>Airport</td>\n",
       "      <td>1.0</td>\n",
       "      <td>Trip Completed</td>\n",
       "      <td>2016-11-07 17:57:00</td>\n",
       "      <td>2016-11-07 18:47:00</td>\n",
       "      <td>2016-11-07</td>\n",
       "      <td>17:57:00</td>\n",
       "    </tr>\n",
       "    <tr>\n",
       "      <th>2</th>\n",
       "      <td>1807</td>\n",
       "      <td>City</td>\n",
       "      <td>1.0</td>\n",
       "      <td>Trip Completed</td>\n",
       "      <td>2016-12-07 09:17:00</td>\n",
       "      <td>2016-12-07 09:58:00</td>\n",
       "      <td>2016-12-07</td>\n",
       "      <td>09:17:00</td>\n",
       "    </tr>\n",
       "    <tr>\n",
       "      <th>3</th>\n",
       "      <td>2532</td>\n",
       "      <td>Airport</td>\n",
       "      <td>1.0</td>\n",
       "      <td>Trip Completed</td>\n",
       "      <td>2016-12-07 21:08:00</td>\n",
       "      <td>2016-12-07 22:03:00</td>\n",
       "      <td>2016-12-07</td>\n",
       "      <td>21:08:00</td>\n",
       "    </tr>\n",
       "    <tr>\n",
       "      <th>4</th>\n",
       "      <td>3112</td>\n",
       "      <td>City</td>\n",
       "      <td>1.0</td>\n",
       "      <td>Trip Completed</td>\n",
       "      <td>2016-07-13 08:33:16</td>\n",
       "      <td>2016-07-13 09:25:47</td>\n",
       "      <td>2016-07-13</td>\n",
       "      <td>08:33:16</td>\n",
       "    </tr>\n",
       "  </tbody>\n",
       "</table>\n",
       "</div>"
      ],
      "text/plain": [
       "   Request id Pickup point  Driver id          Status   Request timestamp  \\\n",
       "0         619      Airport        1.0  Trip Completed 2016-11-07 11:51:00   \n",
       "1         867      Airport        1.0  Trip Completed 2016-11-07 17:57:00   \n",
       "2        1807         City        1.0  Trip Completed 2016-12-07 09:17:00   \n",
       "3        2532      Airport        1.0  Trip Completed 2016-12-07 21:08:00   \n",
       "4        3112         City        1.0  Trip Completed 2016-07-13 08:33:16   \n",
       "\n",
       "       Drop timestamp Request Date Request time  \n",
       "0 2016-11-07 13:00:00   2016-11-07     11:51:00  \n",
       "1 2016-11-07 18:47:00   2016-11-07     17:57:00  \n",
       "2 2016-12-07 09:58:00   2016-12-07     09:17:00  \n",
       "3 2016-12-07 22:03:00   2016-12-07     21:08:00  \n",
       "4 2016-07-13 09:25:47   2016-07-13     08:33:16  "
      ]
     },
     "execution_count": 8,
     "metadata": {},
     "output_type": "execute_result"
    }
   ],
   "source": [
    "# Make a new attributes presenting Date and time individaully when the request has been made from attribute 'Request timestamp'\n",
    "df['Request Date']=pd.DatetimeIndex(df['Request timestamp']).date\n",
    "\n",
    "df['Request time']=pd.DatetimeIndex(df['Request timestamp']).time\n",
    "\n",
    "# Take at the look upon modified table...\n",
    "df.head()"
   ]
  },
  {
   "cell_type": "markdown",
   "metadata": {},
   "source": [
    "### On the basis of hour of the day a request has been made a new attribute is added defining the time slot of that time...\n",
    "\n",
    "**Time Slot is divided as follows**:\n",
    "\n",
    "- Over Night      :  00:00 to 04:59\n",
    "- Early Morning   :  05:00 to 06:59\n",
    "- Morning         :  07:00 to 08:59\n",
    "- Late Morning    :  09:00 to 11:59\n",
    "- Afternoon       :  12:00 to 15:59\n",
    "- Early Evening   :  16:00 to 17:59\n",
    "- Late Evening    :  18:00 to 19:59\n",
    "- Night           :  20:00 to 23:59"
   ]
  },
  {
   "cell_type": "code",
   "execution_count": 9,
   "metadata": {},
   "outputs": [
    {
     "data": {
      "text/html": [
       "<div>\n",
       "<style scoped>\n",
       "    .dataframe tbody tr th:only-of-type {\n",
       "        vertical-align: middle;\n",
       "    }\n",
       "\n",
       "    .dataframe tbody tr th {\n",
       "        vertical-align: top;\n",
       "    }\n",
       "\n",
       "    .dataframe thead th {\n",
       "        text-align: right;\n",
       "    }\n",
       "</style>\n",
       "<table border=\"1\" class=\"dataframe\">\n",
       "  <thead>\n",
       "    <tr style=\"text-align: right;\">\n",
       "      <th></th>\n",
       "      <th>Request id</th>\n",
       "      <th>Pickup point</th>\n",
       "      <th>Driver id</th>\n",
       "      <th>Status</th>\n",
       "      <th>Request timestamp</th>\n",
       "      <th>Drop timestamp</th>\n",
       "      <th>Request Date</th>\n",
       "      <th>Request time</th>\n",
       "      <th>Time_slot</th>\n",
       "    </tr>\n",
       "  </thead>\n",
       "  <tbody>\n",
       "    <tr>\n",
       "      <th>0</th>\n",
       "      <td>619</td>\n",
       "      <td>Airport</td>\n",
       "      <td>1.0</td>\n",
       "      <td>Trip Completed</td>\n",
       "      <td>2016-11-07 11:51:00</td>\n",
       "      <td>2016-11-07 13:00:00</td>\n",
       "      <td>2016-11-07</td>\n",
       "      <td>11:51:00</td>\n",
       "      <td>Late Morning</td>\n",
       "    </tr>\n",
       "    <tr>\n",
       "      <th>1</th>\n",
       "      <td>867</td>\n",
       "      <td>Airport</td>\n",
       "      <td>1.0</td>\n",
       "      <td>Trip Completed</td>\n",
       "      <td>2016-11-07 17:57:00</td>\n",
       "      <td>2016-11-07 18:47:00</td>\n",
       "      <td>2016-11-07</td>\n",
       "      <td>17:57:00</td>\n",
       "      <td>Early Evening</td>\n",
       "    </tr>\n",
       "    <tr>\n",
       "      <th>2</th>\n",
       "      <td>1807</td>\n",
       "      <td>City</td>\n",
       "      <td>1.0</td>\n",
       "      <td>Trip Completed</td>\n",
       "      <td>2016-12-07 09:17:00</td>\n",
       "      <td>2016-12-07 09:58:00</td>\n",
       "      <td>2016-12-07</td>\n",
       "      <td>09:17:00</td>\n",
       "      <td>Late Morning</td>\n",
       "    </tr>\n",
       "    <tr>\n",
       "      <th>3</th>\n",
       "      <td>2532</td>\n",
       "      <td>Airport</td>\n",
       "      <td>1.0</td>\n",
       "      <td>Trip Completed</td>\n",
       "      <td>2016-12-07 21:08:00</td>\n",
       "      <td>2016-12-07 22:03:00</td>\n",
       "      <td>2016-12-07</td>\n",
       "      <td>21:08:00</td>\n",
       "      <td>Night</td>\n",
       "    </tr>\n",
       "    <tr>\n",
       "      <th>4</th>\n",
       "      <td>3112</td>\n",
       "      <td>City</td>\n",
       "      <td>1.0</td>\n",
       "      <td>Trip Completed</td>\n",
       "      <td>2016-07-13 08:33:16</td>\n",
       "      <td>2016-07-13 09:25:47</td>\n",
       "      <td>2016-07-13</td>\n",
       "      <td>08:33:16</td>\n",
       "      <td>Morning</td>\n",
       "    </tr>\n",
       "  </tbody>\n",
       "</table>\n",
       "</div>"
      ],
      "text/plain": [
       "   Request id Pickup point  Driver id          Status   Request timestamp  \\\n",
       "0         619      Airport        1.0  Trip Completed 2016-11-07 11:51:00   \n",
       "1         867      Airport        1.0  Trip Completed 2016-11-07 17:57:00   \n",
       "2        1807         City        1.0  Trip Completed 2016-12-07 09:17:00   \n",
       "3        2532      Airport        1.0  Trip Completed 2016-12-07 21:08:00   \n",
       "4        3112         City        1.0  Trip Completed 2016-07-13 08:33:16   \n",
       "\n",
       "       Drop timestamp Request Date Request time      Time_slot  \n",
       "0 2016-11-07 13:00:00   2016-11-07     11:51:00   Late Morning  \n",
       "1 2016-11-07 18:47:00   2016-11-07     17:57:00  Early Evening  \n",
       "2 2016-12-07 09:58:00   2016-12-07     09:17:00   Late Morning  \n",
       "3 2016-12-07 22:03:00   2016-12-07     21:08:00          Night  \n",
       "4 2016-07-13 09:25:47   2016-07-13     08:33:16        Morning  "
      ]
     },
     "execution_count": 9,
     "metadata": {},
     "output_type": "execute_result"
    }
   ],
   "source": [
    "# On the basis of hour of the day a request has been made a new attribute is added defining the time slot of that time...\n",
    "\n",
    "# Defining time intervals how the time slot is deivided...\n",
    "time=[-1,5,7,9,12,16,18,20,25]\n",
    "\n",
    "# Respective Labels of time slots...\n",
    "label=['Over Night','Early Morning','Morning','Late Morning','Afternoon','Early Evening','Late Evening','Night']\n",
    "\n",
    "\n",
    "df['Time_slot']=pd.cut(df['Request timestamp'].dt.hour,time,labels=label,right=False)\n",
    "\n",
    "# Take a look upon the formed data frame...\n",
    "df.head()"
   ]
  },
  {
   "cell_type": "code",
   "execution_count": 10,
   "metadata": {},
   "outputs": [
    {
     "data": {
      "text/plain": [
       "Request id              0\n",
       "Pickup point            0\n",
       "Driver id            2650\n",
       "Status                  0\n",
       "Request timestamp       0\n",
       "Drop timestamp       3914\n",
       "Request Date            0\n",
       "Request time            0\n",
       "Time_slot               0\n",
       "dtype: int64"
      ]
     },
     "execution_count": 10,
     "metadata": {},
     "output_type": "execute_result"
    }
   ],
   "source": [
    "# Checking of NA values present in dataset column wise...\n",
    "df.isnull().sum()"
   ]
  },
  {
   "cell_type": "markdown",
   "metadata": {},
   "source": [
    "#### Note : 'Driver ID' column has a NA values where Status is 'No Cars Available' \n",
    "#### and \n",
    "#### 'Drop timestamp' has for which trip is not made ('Status'== ['NO Cars Available ','Cancelled'])"
   ]
  },
  {
   "cell_type": "code",
   "execution_count": 11,
   "metadata": {},
   "outputs": [
    {
     "data": {
      "text/plain": [
       "Request id           0\n",
       "Pickup point         0\n",
       "Driver id            0\n",
       "Status               0\n",
       "Request timestamp    0\n",
       "Drop timestamp       0\n",
       "Request Date         0\n",
       "Request time         0\n",
       "Time_slot            0\n",
       "dtype: int64"
      ]
     },
     "execution_count": 11,
     "metadata": {},
     "output_type": "execute_result"
    }
   ],
   "source": [
    "# To find, is there any NA values present for 'Status' == 'Trip completed' data...\n",
    "df.loc[df['Status']=='Trip Completed',:].isnull().sum()"
   ]
  },
  {
   "cell_type": "code",
   "execution_count": 12,
   "metadata": {},
   "outputs": [
    {
     "data": {
      "text/plain": [
       "Request id              0\n",
       "Pickup point            0\n",
       "Driver id               0\n",
       "Status                  0\n",
       "Request timestamp       0\n",
       "Drop timestamp       1264\n",
       "Request Date            0\n",
       "Request time            0\n",
       "Time_slot               0\n",
       "dtype: int64"
      ]
     },
     "execution_count": 12,
     "metadata": {},
     "output_type": "execute_result"
    }
   ],
   "source": [
    "# To check is there any Driver ID is missing for any type of status other than 'No Cars available' \n",
    "df.loc[~(df['Status']=='No Cars Available'),:].isnull().sum()"
   ]
  },
  {
   "cell_type": "markdown",
   "metadata": {},
   "source": [
    "# Plots to Visualise the Total of requests happened in given timeline ...\n",
    "\n",
    "### Note: As the given time line is for only  days frquency of any type of request not much change, so to understand how the diiferent types of request is present in given time line, total request recieve in given time is plotted. "
   ]
  },
  {
   "cell_type": "code",
   "execution_count": 13,
   "metadata": {},
   "outputs": [
    {
     "data": {
      "text/html": [
       "<div>\n",
       "<style scoped>\n",
       "    .dataframe tbody tr th:only-of-type {\n",
       "        vertical-align: middle;\n",
       "    }\n",
       "\n",
       "    .dataframe tbody tr th {\n",
       "        vertical-align: top;\n",
       "    }\n",
       "\n",
       "    .dataframe thead th {\n",
       "        text-align: right;\n",
       "    }\n",
       "</style>\n",
       "<table border=\"1\" class=\"dataframe\">\n",
       "  <thead>\n",
       "    <tr style=\"text-align: right;\">\n",
       "      <th></th>\n",
       "      <th>Status</th>\n",
       "    </tr>\n",
       "  </thead>\n",
       "  <tbody>\n",
       "    <tr>\n",
       "      <th>Trip Completed</th>\n",
       "      <td>2831</td>\n",
       "    </tr>\n",
       "    <tr>\n",
       "      <th>No Cars Available</th>\n",
       "      <td>2650</td>\n",
       "    </tr>\n",
       "    <tr>\n",
       "      <th>Cancelled</th>\n",
       "      <td>1264</td>\n",
       "    </tr>\n",
       "  </tbody>\n",
       "</table>\n",
       "</div>"
      ],
      "text/plain": [
       "                   Status\n",
       "Trip Completed       2831\n",
       "No Cars Available    2650\n",
       "Cancelled            1264"
      ]
     },
     "execution_count": 13,
     "metadata": {},
     "output_type": "execute_result"
    }
   ],
   "source": [
    "# Defining a new table represeting the count the number of times each status occurred...    \n",
    "count_request=pd.DataFrame(df['Status'].value_counts())\n",
    "\n",
    "# Take a look upon the formed table..\n",
    "count_request.head()"
   ]
  },
  {
   "cell_type": "code",
   "execution_count": 14,
   "metadata": {},
   "outputs": [
    {
     "data": {
      "text/plain": [
       "Text(0.5, 1.0, 'Frequency of Status of trips')"
      ]
     },
     "execution_count": 14,
     "metadata": {},
     "output_type": "execute_result"
    },
    {
     "data": {
      "image/png": "[encoded data removed]",
      "text/plain": [
       "<Figure size 648x576 with 1 Axes>"
      ]
     },
     "metadata": {
      "needs_background": "light"
     },
     "output_type": "display_data"
    }
   ],
   "source": [
    "# Plotting the graph..\n",
    "\n",
    "b=count_request['Status']         # Defining y-axis of the plot\n",
    "a=count_request.index             # Defining x-axis of the plot\n",
    "\n",
    "# Bar plot is designed...\n",
    "count_request.plot.bar(width=0.45,figsize=(9,8),rot=0,legend=False)\n",
    "\n",
    "# Plotting a line to visualize the difference between different count of request easily...\n",
    "plt.plot(a,b,'ko-.',linewidth=2.5,markersize=10)\n",
    "\n",
    "# Representing values of total no. of request on each bar...\n",
    "for i in range(len(a)):\n",
    "    plt.text(x=i-0.1,y=b[i]-200,s=b[i],size=18)\n",
    "\n",
    "# Required plot area representation modification for ease of understanding...\n",
    "plt.xticks(size=15)\n",
    "plt.yticks(size=15)\n",
    "plt.ylabel('Count of Status',fontsize=19)\n",
    "plt.xlabel('Status of Trip',fontsize=19)\n",
    "plt.title('Frequency of Status of trips',fontsize=24)"
   ]
  },
  {
   "attachments": {},
   "cell_type": "markdown",
   "metadata": {},
   "source": [
    "## Insights from plot\n",
    "\n",
    "#### Plot Clearly shows that the ‘No Cars Available’ type of status is almost double than problem ‘Cancellation’ facing by the customers.\n",
    "\n",
    "### Most pressing problem to concerned about is ‘No Cars Available’\n",
    "\n",
    "\n",
    "\n",
    "\n"
   ]
  },
  {
   "cell_type": "markdown",
   "metadata": {},
   "source": [
    "\n",
    "\n",
    "\n",
    "\n",
    "## Plot a Graph for understanding the most problematic type of request (city to airport / airport to city ) and also the time slots in each type of request..."
   ]
  },
  {
   "cell_type": "code",
   "execution_count": 15,
   "metadata": {},
   "outputs": [
    {
     "data": {
      "text/html": [
       "<div>\n",
       "<style scoped>\n",
       "    .dataframe tbody tr th:only-of-type {\n",
       "        vertical-align: middle;\n",
       "    }\n",
       "\n",
       "    .dataframe tbody tr th {\n",
       "        vertical-align: top;\n",
       "    }\n",
       "\n",
       "    .dataframe thead th {\n",
       "        text-align: right;\n",
       "    }\n",
       "</style>\n",
       "<table border=\"1\" class=\"dataframe\">\n",
       "  <thead>\n",
       "    <tr style=\"text-align: right;\">\n",
       "      <th></th>\n",
       "      <th>Request id</th>\n",
       "      <th>Pickup point</th>\n",
       "      <th>Driver id</th>\n",
       "      <th>Status</th>\n",
       "      <th>Request timestamp</th>\n",
       "      <th>Drop timestamp</th>\n",
       "      <th>Request Date</th>\n",
       "      <th>Request time</th>\n",
       "      <th>Time_slot</th>\n",
       "    </tr>\n",
       "  </thead>\n",
       "  <tbody>\n",
       "    <tr>\n",
       "      <th>2831</th>\n",
       "      <td>2905</td>\n",
       "      <td>City</td>\n",
       "      <td>1.0</td>\n",
       "      <td>Cancelled</td>\n",
       "      <td>2016-07-13 06:08:41</td>\n",
       "      <td>NaT</td>\n",
       "      <td>2016-07-13</td>\n",
       "      <td>06:08:41</td>\n",
       "      <td>Early Morning</td>\n",
       "    </tr>\n",
       "    <tr>\n",
       "      <th>2832</th>\n",
       "      <td>4805</td>\n",
       "      <td>City</td>\n",
       "      <td>1.0</td>\n",
       "      <td>Cancelled</td>\n",
       "      <td>2016-07-14 17:07:58</td>\n",
       "      <td>NaT</td>\n",
       "      <td>2016-07-14</td>\n",
       "      <td>17:07:58</td>\n",
       "      <td>Early Evening</td>\n",
       "    </tr>\n",
       "    <tr>\n",
       "      <th>2833</th>\n",
       "      <td>5202</td>\n",
       "      <td>Airport</td>\n",
       "      <td>1.0</td>\n",
       "      <td>Cancelled</td>\n",
       "      <td>2016-07-14 20:51:37</td>\n",
       "      <td>NaT</td>\n",
       "      <td>2016-07-14</td>\n",
       "      <td>20:51:37</td>\n",
       "      <td>Night</td>\n",
       "    </tr>\n",
       "    <tr>\n",
       "      <th>2834</th>\n",
       "      <td>5927</td>\n",
       "      <td>City</td>\n",
       "      <td>1.0</td>\n",
       "      <td>Cancelled</td>\n",
       "      <td>2016-07-15 10:12:40</td>\n",
       "      <td>NaT</td>\n",
       "      <td>2016-07-15</td>\n",
       "      <td>10:12:40</td>\n",
       "      <td>Late Morning</td>\n",
       "    </tr>\n",
       "    <tr>\n",
       "      <th>2835</th>\n",
       "      <td>2347</td>\n",
       "      <td>Airport</td>\n",
       "      <td>2.0</td>\n",
       "      <td>Cancelled</td>\n",
       "      <td>2016-12-07 19:14:00</td>\n",
       "      <td>NaT</td>\n",
       "      <td>2016-12-07</td>\n",
       "      <td>19:14:00</td>\n",
       "      <td>Late Evening</td>\n",
       "    </tr>\n",
       "  </tbody>\n",
       "</table>\n",
       "</div>"
      ],
      "text/plain": [
       "      Request id Pickup point  Driver id     Status   Request timestamp  \\\n",
       "2831        2905         City        1.0  Cancelled 2016-07-13 06:08:41   \n",
       "2832        4805         City        1.0  Cancelled 2016-07-14 17:07:58   \n",
       "2833        5202      Airport        1.0  Cancelled 2016-07-14 20:51:37   \n",
       "2834        5927         City        1.0  Cancelled 2016-07-15 10:12:40   \n",
       "2835        2347      Airport        2.0  Cancelled 2016-12-07 19:14:00   \n",
       "\n",
       "     Drop timestamp Request Date Request time      Time_slot  \n",
       "2831            NaT   2016-07-13     06:08:41  Early Morning  \n",
       "2832            NaT   2016-07-14     17:07:58  Early Evening  \n",
       "2833            NaT   2016-07-14     20:51:37          Night  \n",
       "2834            NaT   2016-07-15     10:12:40   Late Morning  \n",
       "2835            NaT   2016-12-07     19:14:00   Late Evening  "
      ]
     },
     "execution_count": 15,
     "metadata": {},
     "output_type": "execute_result"
    }
   ],
   "source": [
    "# Defining a data frame excluded request 'Trip Completed'\n",
    "df2=df.loc[~(df['Status']=='Trip Completed'),:]\n",
    "\n",
    "# Look upon the new table left...\n",
    "df2.head()"
   ]
  },
  {
   "cell_type": "code",
   "execution_count": 16,
   "metadata": {},
   "outputs": [
    {
     "data": {
      "text/html": [
       "<div>\n",
       "<style scoped>\n",
       "    .dataframe tbody tr th:only-of-type {\n",
       "        vertical-align: middle;\n",
       "    }\n",
       "\n",
       "    .dataframe tbody tr th {\n",
       "        vertical-align: top;\n",
       "    }\n",
       "\n",
       "    .dataframe thead th {\n",
       "        text-align: right;\n",
       "    }\n",
       "</style>\n",
       "<table border=\"1\" class=\"dataframe\">\n",
       "  <thead>\n",
       "    <tr style=\"text-align: right;\">\n",
       "      <th></th>\n",
       "      <th>Status</th>\n",
       "      <th>Cancelled</th>\n",
       "      <th>No Cars Available</th>\n",
       "    </tr>\n",
       "    <tr>\n",
       "      <th>Pickup point</th>\n",
       "      <th>Time_slot</th>\n",
       "      <th></th>\n",
       "      <th></th>\n",
       "    </tr>\n",
       "  </thead>\n",
       "  <tbody>\n",
       "    <tr>\n",
       "      <th rowspan=\"8\" valign=\"top\">Airport</th>\n",
       "      <th>Over Night</th>\n",
       "      <td>2</td>\n",
       "      <td>148</td>\n",
       "    </tr>\n",
       "    <tr>\n",
       "      <th>Early Morning</th>\n",
       "      <td>8</td>\n",
       "      <td>7</td>\n",
       "    </tr>\n",
       "    <tr>\n",
       "      <th>Morning</th>\n",
       "      <td>7</td>\n",
       "      <td>7</td>\n",
       "    </tr>\n",
       "    <tr>\n",
       "      <th>Late Morning</th>\n",
       "      <td>22</td>\n",
       "      <td>30</td>\n",
       "    </tr>\n",
       "    <tr>\n",
       "      <th>Afternoon</th>\n",
       "      <td>36</td>\n",
       "      <td>55</td>\n",
       "    </tr>\n",
       "    <tr>\n",
       "      <th>Early Evening</th>\n",
       "      <td>33</td>\n",
       "      <td>224</td>\n",
       "    </tr>\n",
       "    <tr>\n",
       "      <th>Late Evening</th>\n",
       "      <td>30</td>\n",
       "      <td>577</td>\n",
       "    </tr>\n",
       "    <tr>\n",
       "      <th>Night</th>\n",
       "      <td>60</td>\n",
       "      <td>665</td>\n",
       "    </tr>\n",
       "    <tr>\n",
       "      <th rowspan=\"8\" valign=\"top\">City</th>\n",
       "      <th>Over Night</th>\n",
       "      <td>63</td>\n",
       "      <td>151</td>\n",
       "    </tr>\n",
       "    <tr>\n",
       "      <th>Early Morning</th>\n",
       "      <td>313</td>\n",
       "      <td>163</td>\n",
       "    </tr>\n",
       "    <tr>\n",
       "      <th>Morning</th>\n",
       "      <td>340</td>\n",
       "      <td>146</td>\n",
       "    </tr>\n",
       "    <tr>\n",
       "      <th>Late Morning</th>\n",
       "      <td>230</td>\n",
       "      <td>159</td>\n",
       "    </tr>\n",
       "    <tr>\n",
       "      <th>Afternoon</th>\n",
       "      <td>33</td>\n",
       "      <td>127</td>\n",
       "    </tr>\n",
       "    <tr>\n",
       "      <th>Early Evening</th>\n",
       "      <td>24</td>\n",
       "      <td>54</td>\n",
       "    </tr>\n",
       "    <tr>\n",
       "      <th>Late Evening</th>\n",
       "      <td>18</td>\n",
       "      <td>28</td>\n",
       "    </tr>\n",
       "    <tr>\n",
       "      <th>Night</th>\n",
       "      <td>45</td>\n",
       "      <td>109</td>\n",
       "    </tr>\n",
       "  </tbody>\n",
       "</table>\n",
       "</div>"
      ],
      "text/plain": [
       "Status                      Cancelled  No Cars Available\n",
       "Pickup point Time_slot                                  \n",
       "Airport      Over Night             2                148\n",
       "             Early Morning          8                  7\n",
       "             Morning                7                  7\n",
       "             Late Morning          22                 30\n",
       "             Afternoon             36                 55\n",
       "             Early Evening         33                224\n",
       "             Late Evening          30                577\n",
       "             Night                 60                665\n",
       "City         Over Night            63                151\n",
       "             Early Morning        313                163\n",
       "             Morning              340                146\n",
       "             Late Morning         230                159\n",
       "             Afternoon             33                127\n",
       "             Early Evening         24                 54\n",
       "             Late Evening          18                 28\n",
       "             Night                 45                109"
      ]
     },
     "execution_count": 16,
     "metadata": {},
     "output_type": "execute_result"
    }
   ],
   "source": [
    "# Modify of the table to represent the total number of category in different type of each request...\n",
    "df2=pd.DataFrame(df2.groupby(['Pickup point','Time_slot','Status']).size().unstack())\n",
    "\n",
    "# Take a look upon the table\n",
    "df2"
   ]
  },
  {
   "cell_type": "code",
   "execution_count": 17,
   "metadata": {},
   "outputs": [
    {
     "data": {
      "text/html": [
       "<div>\n",
       "<style scoped>\n",
       "    .dataframe tbody tr th:only-of-type {\n",
       "        vertical-align: middle;\n",
       "    }\n",
       "\n",
       "    .dataframe tbody tr th {\n",
       "        vertical-align: top;\n",
       "    }\n",
       "\n",
       "    .dataframe thead th {\n",
       "        text-align: right;\n",
       "    }\n",
       "</style>\n",
       "<table border=\"1\" class=\"dataframe\">\n",
       "  <thead>\n",
       "    <tr style=\"text-align: right;\">\n",
       "      <th></th>\n",
       "      <th>Status</th>\n",
       "      <th>Cancelled</th>\n",
       "      <th>No Cars Available</th>\n",
       "      <th>Total</th>\n",
       "    </tr>\n",
       "    <tr>\n",
       "      <th>Pickup point</th>\n",
       "      <th>Time_slot</th>\n",
       "      <th></th>\n",
       "      <th></th>\n",
       "      <th></th>\n",
       "    </tr>\n",
       "  </thead>\n",
       "  <tbody>\n",
       "    <tr>\n",
       "      <th rowspan=\"5\" valign=\"top\">Airport</th>\n",
       "      <th>Over Night</th>\n",
       "      <td>2</td>\n",
       "      <td>148</td>\n",
       "      <td>150</td>\n",
       "    </tr>\n",
       "    <tr>\n",
       "      <th>Early Morning</th>\n",
       "      <td>8</td>\n",
       "      <td>7</td>\n",
       "      <td>15</td>\n",
       "    </tr>\n",
       "    <tr>\n",
       "      <th>Morning</th>\n",
       "      <td>7</td>\n",
       "      <td>7</td>\n",
       "      <td>14</td>\n",
       "    </tr>\n",
       "    <tr>\n",
       "      <th>Late Morning</th>\n",
       "      <td>22</td>\n",
       "      <td>30</td>\n",
       "      <td>52</td>\n",
       "    </tr>\n",
       "    <tr>\n",
       "      <th>Afternoon</th>\n",
       "      <td>36</td>\n",
       "      <td>55</td>\n",
       "      <td>91</td>\n",
       "    </tr>\n",
       "  </tbody>\n",
       "</table>\n",
       "</div>"
      ],
      "text/plain": [
       "Status                      Cancelled  No Cars Available  Total\n",
       "Pickup point Time_slot                                         \n",
       "Airport      Over Night             2                148    150\n",
       "             Early Morning          8                  7     15\n",
       "             Morning                7                  7     14\n",
       "             Late Morning          22                 30     52\n",
       "             Afternoon             36                 55     91"
      ]
     },
     "execution_count": 17,
     "metadata": {},
     "output_type": "execute_result"
    }
   ],
   "source": [
    "# Adding a new attribute named 'Total' defining Total request that is incomplete...\n",
    "df2['Total']=df2['Cancelled']+df2['No Cars Available']\n",
    "\n",
    "# Look upon the table...\n",
    "df2.head()"
   ]
  },
  {
   "cell_type": "markdown",
   "metadata": {},
   "source": [
    "## Note: Plot is divided into two figures depending upon the type of request is made to observe the variation of the status w.r.t. time slots..."
   ]
  },
  {
   "cell_type": "code",
   "execution_count": 57,
   "metadata": {
    "scrolled": false
   },
   "outputs": [
    {
     "data": {
      "text/plain": [
       "Text(3.4, 290, 'Total Non-Completion Trips = 2003')"
      ]
     },
     "execution_count": 57,
     "metadata": {},
     "output_type": "execute_result"
    },
    {
     "data": {
      "text/plain": [
       "<Figure size 432x288 with 0 Axes>"
      ]
     },
     "metadata": {},
     "output_type": "display_data"
    },
    {
     "data": {
      "image/png": "[encoded data removed]",
      "text/plain": [
       "<Figure size 1080x576 with 1 Axes>"
      ]
     },
     "metadata": {
      "needs_background": "light"
     },
     "output_type": "display_data"
    },
    {
     "data": {
      "image/png": "[encoded data removed]",
      "text/plain": [
       "<Figure size 1080x576 with 1 Axes>"
      ]
     },
     "metadata": {
      "needs_background": "light"
     },
     "output_type": "display_data"
    }
   ],
   "source": [
    "# Plotting the required graph...\n",
    "\n",
    "\n",
    "# Defining the 1st figure considering request from 'Airport to City'\n",
    "plt.figure(1)\n",
    "df2.iloc[:8,:].sort_values(by='Total',ascending=False).drop('Total',axis=1).plot(kind='bar',stacked=True,figsize=(15,8),rot=65,use_index=False)\n",
    "\n",
    "# Adding a legend...\n",
    "plt.legend(fontsize=20)\n",
    "\n",
    "# Setting the x ticks labels properly... \n",
    "label=list(df2.iloc[:8,:].sort_values(by='Total',ascending=False).reset_index()['Time_slot'])\n",
    "a=[i for i in range(8)]\n",
    "plt.xticks(a,label,fontsize=13)\n",
    "\n",
    "# Setting y-ticks text...\n",
    "plt.yticks(fontsize=13)\n",
    "\n",
    "# Additional text for ease of understading and differentiation of the graph...\n",
    "plt.title('Frequency of status of request w.r.t Time slot',fontsize=28)\n",
    "plt.text(3,440,'For Airport to City Request',fontsize=26,color='red')\n",
    "plt.text(2.9,370,'Total Non-Completion Trips = {}'.format(df2.iloc[:8,-1].sum()),fontsize=22)\n",
    "\n",
    "\n",
    "\n",
    "\n",
    "# Defining the 2nd figure considering request from 'City to Airport'\n",
    "plt.figure(2)\n",
    "\n",
    "df2.iloc[8:,:].sort_values(by='Total',ascending=False).drop('Total',axis=1).plot(kind='bar',stacked=True,figsize=(15,8),rot=65,use_index=False)\n",
    "\n",
    "label=list(df2.iloc[8:,:].sort_values(by='Total',ascending=False).reset_index()['Time_slot'])\n",
    "a=[i for i in range(8)]\n",
    "plt.xticks(a,label,fontsize=13)\n",
    "plt.yticks(fontsize=13)\n",
    "plt.ylim(0,750)\n",
    "plt.legend(fontsize=20)\n",
    "\n",
    "plt.text(3.5,340,'For City to Airport Request',fontsize=26,color='red')\n",
    "plt.text(3.4,290,'Total Non-Completion Trips = {}'.format(df2.iloc[8:,-1].sum()),fontsize=22)"
   ]
  },
  {
   "attachments": {},
   "cell_type": "markdown",
   "metadata": {},
   "source": [
    "## Insights from plot\n",
    "\n",
    "#### Total Incompletion trips for:\n",
    "-  Airport to city : 1911\n",
    "-  City to Airport : 2003\n",
    "\n",
    "#### Total incompletion trips are almost same for both the type of requests\n",
    "\n",
    "#### For request Airport to City:\n",
    "‘Night’, ‘Late Evenings’ and ’Early Evening’ (time from 4 pm to 12 am) are peak time slots where the problem is maximum\n",
    "And in these identified time slots ‘No Cars Available’ is emerging to be the main pressing problem where focused is needed\n",
    "\n",
    "\n",
    "#### For request City to Airport :\n",
    "Here ‘Morning’, ‘Early Morning’ and ‘Late Morning’ (time from 5 am to 12 pm) are peak time slots where the problem is maximum\n",
    "Here Both ‘No Cars Available’ & ‘Cancellation’ have being equally reasonable for the problem with ‘Cancellation’ contribute a little higher percentage\n"
   ]
  },
  {
   "cell_type": "markdown",
   "metadata": {},
   "source": [
    "# To find out the gap between supply and demand w.r.t Time Slot and type of requests for which the gap is severe..."
   ]
  },
  {
   "cell_type": "code",
   "execution_count": 20,
   "metadata": {
    "scrolled": true
   },
   "outputs": [
    {
     "data": {
      "text/html": [
       "<div>\n",
       "<style scoped>\n",
       "    .dataframe tbody tr th:only-of-type {\n",
       "        vertical-align: middle;\n",
       "    }\n",
       "\n",
       "    .dataframe tbody tr th {\n",
       "        vertical-align: top;\n",
       "    }\n",
       "\n",
       "    .dataframe thead th {\n",
       "        text-align: right;\n",
       "    }\n",
       "</style>\n",
       "<table border=\"1\" class=\"dataframe\">\n",
       "  <thead>\n",
       "    <tr style=\"text-align: right;\">\n",
       "      <th></th>\n",
       "      <th>Demand</th>\n",
       "      <th>Supply</th>\n",
       "      <th>GAP</th>\n",
       "    </tr>\n",
       "    <tr>\n",
       "      <th>Time_slot</th>\n",
       "      <th></th>\n",
       "      <th></th>\n",
       "      <th></th>\n",
       "    </tr>\n",
       "  </thead>\n",
       "  <tbody>\n",
       "    <tr>\n",
       "      <th>Night</th>\n",
       "      <td>1439</td>\n",
       "      <td>665</td>\n",
       "      <td>774</td>\n",
       "    </tr>\n",
       "    <tr>\n",
       "      <th>Late Evening</th>\n",
       "      <td>983</td>\n",
       "      <td>378</td>\n",
       "      <td>605</td>\n",
       "    </tr>\n",
       "    <tr>\n",
       "      <th>Over Night</th>\n",
       "      <td>578</td>\n",
       "      <td>279</td>\n",
       "      <td>299</td>\n",
       "    </tr>\n",
       "    <tr>\n",
       "      <th>Early Evening</th>\n",
       "      <td>577</td>\n",
       "      <td>299</td>\n",
       "      <td>278</td>\n",
       "    </tr>\n",
       "    <tr>\n",
       "      <th>Late Morning</th>\n",
       "      <td>845</td>\n",
       "      <td>656</td>\n",
       "      <td>189</td>\n",
       "    </tr>\n",
       "  </tbody>\n",
       "</table>\n",
       "</div>"
      ],
      "text/plain": [
       "               Demand  Supply  GAP\n",
       "Time_slot                         \n",
       "Night            1439     665  774\n",
       "Late Evening      983     378  605\n",
       "Over Night        578     279  299\n",
       "Early Evening     577     299  278\n",
       "Late Morning      845     656  189"
      ]
     },
     "execution_count": 20,
     "metadata": {},
     "output_type": "execute_result"
    }
   ],
   "source": [
    "# Defining a new data frame describing the GAP between Demand and Supply...\n",
    "\n",
    "# Form Data Frame representing Supply of cars needed at different time slots of the day...\n",
    "supply=df.loc[~(df['Status']=='No Cars Available'),:].pivot_table(index='Time_slot',values='Status',aggfunc='count')\n",
    "\n",
    "# Form Data Frame representing Demand of cars needed at different time slots of the day...\n",
    "Demand=pd.DataFrame(df.groupby('Time_slot').size())\n",
    "\n",
    "# Merging to data frame into one name 'gap'...\n",
    "gap=pd.merge(Demand,supply,how='outer',on='Time_slot')\n",
    "\n",
    "# Rename of the columns for better understanding...\n",
    "gap.columns=['Demand','Supply']\n",
    "\n",
    "# Form new attribute represnting the GAP between Demand and Supply in different time slots...\n",
    "gap['GAP']=gap.Demand-gap.Supply\n",
    "\n",
    "# Sort the whole table w.r.t. the 'GAP'... \n",
    "gap.sort_values(by='GAP',ascending=False,inplace=True)\n",
    "\n",
    "# Take a look upon new formed table...\n",
    "gap.head()"
   ]
  },
  {
   "cell_type": "code",
   "execution_count": 55,
   "metadata": {},
   "outputs": [
    {
     "name": "stdout",
     "output_type": "stream",
     "text": [
      "61.98\n"
     ]
    }
   ],
   "source": [
    "# To find the average Supply w.r.t. Demand in different time slots...\n",
    "Average=round(np.mean([(gap.Supply[i]/gap.Demand[i])*100 for i in gap.index]),2)\n",
    "\n",
    "print(Average)"
   ]
  },
  {
   "cell_type": "code",
   "execution_count": 26,
   "metadata": {
    "scrolled": false
   },
   "outputs": [
    {
     "data": {
      "text/plain": [
       "Text(0.5, 0, 'Time Slots')"
      ]
     },
     "execution_count": 26,
     "metadata": {},
     "output_type": "execute_result"
    },
    {
     "data": {
      "image/png": "[encoded data removed]",
      "text/plain": [
       "<Figure size 1080x576 with 1 Axes>"
      ]
     },
     "metadata": {
      "needs_background": "light"
     },
     "output_type": "display_data"
    }
   ],
   "source": [
    "# Required plot\n",
    "\n",
    "# Set figure size...\n",
    "plt.figure(figsize=(15,8))   \n",
    "\n",
    "# Set commom x-axis variable...\n",
    "a=list(gap.index)\n",
    "\n",
    "# Bar plot representing Deamand at different time slots...\n",
    "plt.bar(a,gap.Demand,width=0.5,alpha=0.7,label='Demand')\n",
    "\n",
    "# Bar plot representing Supply at different time slots...\n",
    "plt.bar(a,gap.Supply,width=0.25,alpha=0.95,label='Supply')\n",
    "\n",
    "# Line Represeting GAP in various time slots...\n",
    "plt.plot(a,gap.GAP,'ko--',markersize=7,label='GAP between Demand and Supply')\n",
    "\n",
    "# Include legend for better understanding...\n",
    "plt.legend(fontsize=15)\n",
    "\n",
    "# Add the values of GAP in above of each point on line representing GAP...\n",
    "for i,n in enumerate(gap.GAP) :\n",
    "    plt.text(i-0.14,y=n+50,s=n,size=16)\n",
    "\n",
    "# Additional setting of plot for better understanding...\n",
    "plt.xticks(size=13,rotation=55)\n",
    "plt.yticks(size=13)\n",
    "plt.title('GAP in Demand and Supply in different time slots',fontsize=20)\n",
    "plt.xlabel('Time Slots',fontsize=18)"
   ]
  },
  {
   "attachments": {},
   "cell_type": "markdown",
   "metadata": {},
   "source": [
    "## Insights from plot\n",
    "\n",
    "#### Plot shows the Demand and Supply in different time slots of a day with highlighted the GAP between them GAP between Demand and Supply is maximum during ‘Night’ & ‘Late Evening’ ( From  6 pm to 12 am)\n",
    "\n",
    "\n",
    "#### On the average :\n",
    "Supply = 62% of the Demand (in all time slots) \n",
    "\n",
    "\n",
    "### Note: For the time slots after afternoon don’t only have GAP maximum, also the Demand at that time is also very high.\n"
   ]
  },
  {
   "cell_type": "markdown",
   "metadata": {},
   "source": [
    "### Plot representing the GAP in time slots and also represeting the most problematic type of request where the problem is more severe"
   ]
  },
  {
   "cell_type": "code",
   "execution_count": 22,
   "metadata": {},
   "outputs": [],
   "source": [
    "# Form a data frame represeting Demand of cars for both type of request in different time slots...\n",
    "Demand=pd.DataFrame(df.groupby(['Time_slot','Pickup point']).size()).unstack()\n",
    "\n",
    "# Rename of column to remove ambiguity...\n",
    "Demand.columns=['Airport Demand','City Demand']\n",
    "\n",
    "\n",
    "# Form a data frame represeting Supply of cars for both type of request in different time slots...\n",
    "Supply=pd.DataFrame(df.loc[(df['Status']!='No Cars Available')].groupby(['Time_slot','Pickup point']).size()).unstack()\n",
    "\n",
    "# Rename of column to remove ambiguity...\n",
    "Supply.columns=['Airport Supply','City Supply']\n",
    "\n",
    "\n",
    "# Merge the form to data frame in a way representing GAP in demand and supply in different type of request in different time slots...\n",
    "cate_gap=pd.DataFrame({'gap in Airport to city':(Demand['Airport Demand']-Supply['Airport Supply']),'gap in City to Airport':(Demand['City Demand']-Supply['City Supply'])})\n",
    "\n",
    "# Adding the attribute total represeting total GAP at that time slot...\n",
    "cate_gap['GAP']=cate_gap['gap in Airport to city']+cate_gap['gap in City to Airport']\n",
    "\n",
    "# Rearrange the table w.r.t. total GAP in that time slot for particular type of request...\n",
    "cate_gap.sort_values(by='GAP',inplace=True,ascending=False)\n",
    "\n",
    "# Take a look upon formed table...\n",
    "cate_gap"
   ]
  },
  {
   "cell_type": "code",
   "execution_count": 23,
   "metadata": {},
   "outputs": [
    {
     "data": {
      "text/plain": [
       "Text(0.5, 1.0, 'Gap due to each type of request in different time Slots')"
      ]
     },
     "execution_count": 23,
     "metadata": {},
     "output_type": "execute_result"
    },
    {
     "data": {
      "image/png": "[encoded data removed]",
      "text/plain": [
       "<Figure size 1080x576 with 1 Axes>"
      ]
     },
     "metadata": {
      "needs_background": "light"
     },
     "output_type": "display_data"
    }
   ],
   "source": [
    "# Plot\n",
    "\n",
    "# Stacked plot to see the contribution of the each type of request in total GAP in different time slot...\n",
    "cate_gap.drop('GAP',axis=1).plot(stacked=True,kind='bar',figsize=(15,8),rot=55)\n",
    "\n",
    "# Adding the legend for better understanding...\n",
    "plt.legend(fontsize=25)\n",
    "\n",
    "# Additional of plots features....\n",
    "plt.xticks(fontsize=13)\n",
    "plt.yticks(fontsize=13)\n",
    "plt.xlabel('Time Slot',fontsize=18)\n",
    "plt.ylabel('Supply Demand GAP',fontsize=18)\n",
    "plt.title('Gap due to each type of request in different time Slots',fontsize=24)"
   ]
  },
  {
   "attachments": {},
   "cell_type": "markdown",
   "metadata": {},
   "source": [
    "## Insights from plot\n",
    "\n",
    "\n",
    "#### The time slots where the GAP between the Demand and Supply is maximum (For e.g. ‘Night’, ’Late Evening’) has a major contribution of the request from ‘Airport to City’ \n",
    "\n",
    "### Conclusion : Airport to City request type need more focused for after ‘Afternoon’ time until ‘Morning’\n",
    "\n",
    "\n",
    "### Note: Whereas time slots having less GAP (For e.g., Early Morning, Morning) is majorly due to the request type of ‘City to Airport’\n",
    "\n"
   ]
  },
  {
   "cell_type": "markdown",
   "metadata": {},
   "source": [
    "## Additional finding :\n",
    "### Driver ID's who are more likely in cancelling the trip of the customer "
   ]
  },
  {
   "cell_type": "code",
   "execution_count": 24,
   "metadata": {},
   "outputs": [
    {
     "data": {
      "text/plain": [
       "[84, 54, 206, 142, 267, 166, 114, 138, 210, 27]"
      ]
     },
     "execution_count": 24,
     "metadata": {},
     "output_type": "execute_result"
    }
   ],
   "source": [
    "Driver=df.loc[df.Status=='Cancelled'].groupby('Driver id').size().reset_index(name='Size').sort_values(by='Size',ascending=False)\n",
    "Driver.loc[Driver['Size']>8]['Driver id'].astype(np.int64).tolist()"
   ]
  },
  {
   "attachments": {},
   "cell_type": "markdown",
   "metadata": {},
   "source": [
    "## Hypothesis :\n",
    "\n",
    "#### Major GAP between Demand and Supply is in request ‘Airport to city’ after Afternoon time slot,\n",
    "\n",
    "\n",
    "#### There can be possible reasons:\n",
    "-  Flights incoming are more than outgoing after afternoon time (As we see at these time slots Demand is also very high)\n",
    "-  People coming to airport from city are usually use there own cars which decrease the supply of cars at the airport\n",
    "-  Drivers of cars tend to stay in city rather than to make 1 long trip to airport, wait there for few hours and then get back (As we see Driver are tend to cancel the request from city to airport very often)\n",
    "-  Low No. of cars available (As we have see ‘No Cars available’ is major reason for any type of request which results in shortage of supply\n"
   ]
  },
  {
   "attachments": {},
   "cell_type": "markdown",
   "metadata": {},
   "source": [
    "## Recommendations :\n",
    "\n",
    "-  Launch more cars to meet the ‘No Cars Available’ type of status\n",
    "-  Talk to drivers who cancelled trips more often and try to understand the reason behind it\n",
    "-  Increase the increment of drivers for trips through and out to the airport\n",
    "-  By taking IN and OUT flights data of the airport, Supply cars directly to airport when the Demand is on its peak (like in night time)\n"
   ]
  }
 ],
 "metadata": {
  "kernelspec": {
   "display_name": "Python 3",
   "language": "python",
   "name": "python3"
  },
  "language_info": {
   "codemirror_mode": {
    "name": "ipython",
    "version": 3
   },
   "file_extension": ".py",
   "mimetype": "text/x-python",
   "name": "python",
   "nbconvert_exporter": "python",
   "pygments_lexer": "ipython3",
   "version": "3.7.1"
  }
 },
 "nbformat": 4,
 "nbformat_minor": 2
}
